{
  "nbformat": 4,
  "nbformat_minor": 0,
  "metadata": {
    "colab": {
      "provenance": [],
      "authorship_tag": "ABX9TyPR67A+/RFj539X5hAeT9/L",
      "include_colab_link": true
    },
    "kernelspec": {
      "name": "python3",
      "display_name": "Python 3"
    },
    "language_info": {
      "name": "python"
    }
  },
  "cells": [
    {
      "cell_type": "markdown",
      "metadata": {
        "id": "view-in-github",
        "colab_type": "text"
      },
      "source": [
        "<a href=\"https://colab.research.google.com/github/JuanTLA16/Diccionario_python/blob/main/diccionario.ipynb\" target=\"_parent\"><img src=\"https://colab.research.google.com/assets/colab-badge.svg\" alt=\"Open In Colab\"/></a>"
      ]
    },
    {
      "cell_type": "markdown",
      "source": [
        "#DICCIONARIOS\n",
        "- Son datos estructurados , es decir, hacen referencia a una coleccion de datos.\n",
        "- Son una coleccion desordenada de pares de datos de la forma *clave:valor*, conocidos como elementos o items.\n",
        "- Son mutables: una vez definido el diccionario se le pueden agregar nuevos elementos, modificar o eliminar algunos de los que ya tiene.\n",
        "- Tambien se le conoce como mapa hash o arreglos asociativos.\n",
        "- En python los diccionarios son de tipo dict.\n",
        "- La sintaxis es nombre del diccionario = {clave1: valor1, clave2: valor2 .......}\n",
        "- Cada item o elemento tiene la forma *clave:valor* \n",
        "- En cada item hay una clave y uno o mas valores. Si, por alguna razon se desconoce el valor se puede completar con None.\n",
        "- Los elementos del diccionario se indexan por la clave.\n",
        "- La claves solo pueden ser datos inmutables, los valores pueden ser datos o inmutables. \n",
        "- Las claves no pueden repetirse dentro de un diccionario."
      ],
      "metadata": {
        "id": "GYTT3QY0NOfB"
      }
    },
    {
      "cell_type": "code",
      "source": [
        "# EJEMPLO DE DICCIONARIO\n",
        "\n",
        "# LA CLAVE ES UNA CADENA\n",
        "\n",
        "\n",
        "num_meses = {'enero' : 1, 'febrero' : 2, 'marzo' : 3, 'abril' : 4, 'mayo' : 5, 'junio' : 6}\n",
        "print(num_meses) \n",
        "\n",
        "# LA CLAVE ES UN ENTERO\n",
        "\n",
        "nom_meses = {1:'enero', 2: 'feberero', 3:'marzo', 4:'abril', 5:'mayo', 6:'junio'}\n",
        "print(nom_meses)\n",
        "\n",
        "print('El tipo es: ', type(nom_meses))\n",
        "\n",
        "# CREACION DE DICCIONARIOS POR MEDIO DE CONSTRUCTOR DICT\n",
        "# POR MEDIO DE UNA LISTA DE TUPLAS\n",
        "\n",
        "dic_1 = dict([('La paz', 13),('Lima', 27), ('Caracas', 30)])\n",
        "print('Con lista de tuplas:', dic_1)\n",
        "\n",
        "# POR MEDIO DE UNA LISTA DE COMPRENSION\n",
        "\n",
        "dic_cubos = dict([(n,n**3) for n in range (1,5)])\n",
        "print(dic_cubos)"
      ],
      "metadata": {
        "colab": {
          "base_uri": "https://localhost:8080/"
        },
        "id": "W5xe7Qb6PYgv",
        "outputId": "96ea3e6c-caed-417a-d344-13b863ce793e"
      },
      "execution_count": 16,
      "outputs": [
        {
          "output_type": "stream",
          "name": "stdout",
          "text": [
            "{'enero': 1, 'febrero': 2, 'marzo': 3, 'abril': 4, 'mayo': 5, 'junio': 6}\n",
            "{1: 'enero', 2: 'feberero', 3: 'marzo', 4: 'abril', 5: 'mayo', 6: 'junio'}\n",
            "El tipo es:  <class 'dict'>\n",
            "Con lista de tuplas: {'La paz': 13, 'Lima': 27, 'Caracas': 30}\n",
            "{1: 1, 2: 8, 3: 27, 4: 64}\n"
          ]
        }
      ]
    },
    {
      "cell_type": "code",
      "source": [
        "# OPERACIONES \n",
        "\n",
        "# AGREGAR ELEMENTOS \n",
        "\n",
        "frutas = {'manzana':34, 'pera':45}\n",
        "print(frutas)\n",
        "frutas['cereza'] = 90\n",
        "print(frutas)\n",
        "frutas['manzana'] = 37\n",
        "print(frutas)\n",
        "\n",
        "# CONSULTAR O MODIFICAR ELEMENTOS\n",
        "print('El valor de la pera es: ' , frutas['pera'])"
      ],
      "metadata": {
        "colab": {
          "base_uri": "https://localhost:8080/"
        },
        "id": "UqNXq9_JUJFM",
        "outputId": "0924d145-3997-4dbe-f981-52c349dcfa3b"
      },
      "execution_count": 17,
      "outputs": [
        {
          "output_type": "stream",
          "name": "stdout",
          "text": [
            "{'manzana': 34, 'pera': 45}\n",
            "{'manzana': 34, 'pera': 45, 'cereza': 90}\n",
            "{'manzana': 37, 'pera': 45, 'cereza': 90}\n",
            "El valor de la pera es:  45\n"
          ]
        }
      ]
    },
    {
      "cell_type": "code",
      "source": [
        "# EJERCICIO: Usando diccionario, desarrollar una calculadora basica con menu.\n",
        "\n",
        "from math import log\n",
        "\n",
        "\n",
        "print(\"CALCULADORA BASICA\")\n",
        "print(\"1   -----> Suma(x+y)\")\n",
        "print(\"2   -----> Resta(x-y)\")\n",
        "print(\"3   -----> Multiplicacion(x*y)\")\n",
        "print(\"4   -----> Division(x/y)\")\n",
        "print(\"5   -----> Potencia(x^y)\")\n",
        "print(\"6   -----> Logaritmo(base = x, argumento = y)\")\n",
        "\n",
        "\n",
        "\n",
        "# INPUT\n",
        "\n",
        "\n",
        "x = float(input(\"Ingrese el valor de x: \"))\n",
        "y = float(input(\"Ingrese el valor de y: \"))\n",
        "opcion = input(\"Operacion que desea realizar: \")\n",
        "\n",
        "\n",
        "# PROCESSING\n",
        "\n",
        "\n",
        "operaciones = {\"1\": x+y, \"2\": x-y, \"3\": x*y, \"4\": x/y, \"5\": x**y, \"6\": log(x,y)}\n",
        "print(operaciones[opcion])"
      ],
      "metadata": {
        "id": "z6aey73OVnUk"
      },
      "execution_count": null,
      "outputs": []
    }
  ]
}